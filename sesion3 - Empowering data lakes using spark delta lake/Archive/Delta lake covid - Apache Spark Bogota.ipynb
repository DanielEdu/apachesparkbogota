{
 "cells": [
  {
   "cell_type": "code",
   "execution_count": 1,
   "metadata": {},
   "outputs": [],
   "source": [
    "import findspark\n",
    "findspark.init()\n",
    "\n",
    "from pyspark.sql import SparkSession\n",
    "\n",
    "# initialise sparkContext\n",
    "spark = SparkSession.builder \\\n",
    "    .master('local') \\\n",
    "    .config(\"spark.jars.packages\", \"io.delta:delta-core_2.12:0.7.0\") \\\n",
    "    .config(\"spark.sql.extensions\", \"io.delta.sql.DeltaSparkSessionExtension\") \\\n",
    "    .config(\"spark.sql.catalog.spark_catalog\", \"org.apache.spark.sql.delta.catalog.DeltaCatalog\")\\\n",
    "    .appName('Apache Spark Bogota - Demo') \\\n",
    "    .getOrCreate()"
   ]
  },
  {
   "cell_type": "code",
   "execution_count": 2,
   "metadata": {},
   "outputs": [
    {
     "data": {
      "text/plain": [
       "'3.0.0'"
      ]
     },
     "execution_count": 2,
     "metadata": {},
     "output_type": "execute_result"
    }
   ],
   "source": [
    "spark.version"
   ]
  },
  {
   "cell_type": "code",
   "execution_count": 3,
   "metadata": {},
   "outputs": [],
   "source": [
    "df = spark.read.parquet('covid_parquet')"
   ]
  },
  {
   "cell_type": "code",
   "execution_count": 4,
   "metadata": {},
   "outputs": [
    {
     "name": "stdout",
     "output_type": "stream",
     "text": [
      "+-------+-----------------+----------------+---------------------+----------+----+----+-----------+-------------------------+\n",
      "|id_caso|fecha_diagnostico|ciudad_ubicacion|departamento_distrito|atencion  |edad|sexo|tipo       |pais_procedencia         |\n",
      "+-------+-----------------+----------------+---------------------+----------+----+----+-----------+-------------------------+\n",
      "|1      |06/03/2020       |Bogotá          |Bogotá D.C.          |Recuperado|19  |F   |Importado  |Italia                   |\n",
      "|2      |09/03/2020       |Buga            |Valle del Cauca      |Recuperado|34  |M   |Importado  |España                   |\n",
      "|3      |09/03/2020       |Medellín        |Antioquia            |Recuperado|50  |F   |Importado  |España                   |\n",
      "|4      |11/03/2020       |Medellín        |Antioquia            |Recuperado|55  |M   |Relacionado|Colombia                 |\n",
      "|5      |11/03/2020       |Medellín        |Antioquia            |Recuperado|25  |M   |Relacionado|Colombia                 |\n",
      "|6      |11/03/2020       |Itagüí          |Antioquia            |Casa      |27  |F   |Relacionado|Colombia                 |\n",
      "|7      |11/03/2020       |Cartagena       |Cartagena D.T. y C   |Recuperado|85  |F   |Importado  |Estados Unidos           |\n",
      "|8      |11/03/2020       |Bogotá          |Bogotá D.C.          |Recuperado|22  |F   |Importado  |España                   |\n",
      "|9      |11/03/2020       |Bogotá          |Bogotá D.C.          |Recuperado|28  |F   |Importado  |España - Italia          |\n",
      "|10     |12/03/2020       |Bogotá          |Bogotá D.C.          |Recuperado|36  |F   |Importado  |España                   |\n",
      "|11     |12/03/2020       |Bogotá          |Bogotá D.C.          |Casa      |42  |F   |Importado  |España                   |\n",
      "|12     |12/03/2020       |Neiva           |Huila                |Casa      |74  |F   |Importado  |Italia                   |\n",
      "|13     |12/03/2020       |Neiva           |Huila                |Casa      |68  |F   |Relacionado|Colombia                 |\n",
      "|14     |13/03/2020       |Palmira         |Valle del Cauca      |Recuperado|48  |M   |Importado  |España                   |\n",
      "|15     |13/03/2020       |Villavicencio   |Meta                 |Recuperado|30  |F   |Importado  |España                   |\n",
      "|16     |13/03/2020       |Bogotá          |Bogotá D.C.          |Recuperado|61  |F   |Importado  |Italia - Ucrania - España|\n",
      "|17     |14/03/2020       |Bogotá          |Bogotá D.C.          |Casa      |73  |F   |Importado  |España                   |\n",
      "|18     |14/03/2020       |Bogotá          |Bogotá D.C.          |Casa      |54  |M   |Importado  |España                   |\n",
      "|19     |14/03/2020       |Bogotá          |Bogotá D.C.          |Recuperado|54  |F   |Relacionado|Colombia                 |\n",
      "|20     |14/03/2020       |Medellín        |Antioquia            |Recuperado|26  |F   |Relacionado|Colombia                 |\n",
      "+-------+-----------------+----------------+---------------------+----------+----+----+-----------+-------------------------+\n",
      "only showing top 20 rows\n",
      "\n"
     ]
    },
    {
     "data": {
      "text/plain": [
       "None"
      ]
     },
     "metadata": {},
     "output_type": "display_data"
    }
   ],
   "source": [
    "display(df.show(truncate=False))"
   ]
  },
  {
   "cell_type": "code",
   "execution_count": 5,
   "metadata": {},
   "outputs": [
    {
     "name": "stdout",
     "output_type": "stream",
     "text": [
      "root\n",
      " |-- id_caso: string (nullable = true)\n",
      " |-- fecha_diagnostico: string (nullable = true)\n",
      " |-- ciudad_ubicacion: string (nullable = true)\n",
      " |-- departamento_distrito: string (nullable = true)\n",
      " |-- atencion: string (nullable = true)\n",
      " |-- edad: string (nullable = true)\n",
      " |-- sexo: string (nullable = true)\n",
      " |-- tipo: string (nullable = true)\n",
      " |-- pais_procedencia: string (nullable = true)\n",
      "\n",
      "None\n"
     ]
    }
   ],
   "source": [
    "print(df.printSchema())"
   ]
  },
  {
   "cell_type": "code",
   "execution_count": 6,
   "metadata": {},
   "outputs": [],
   "source": [
    "df.createOrReplaceTempView(\"covid_parquet\")"
   ]
  },
  {
   "cell_type": "code",
   "execution_count": 7,
   "metadata": {},
   "outputs": [
    {
     "name": "stdout",
     "output_type": "stream",
     "text": [
      "+--------+\n",
      "|count(1)|\n",
      "+--------+\n",
      "|    1161|\n",
      "+--------+\n",
      "\n"
     ]
    },
    {
     "data": {
      "text/plain": [
       "None"
      ]
     },
     "metadata": {},
     "output_type": "display_data"
    }
   ],
   "source": [
    "display(spark.sql(\"select count(1) from covid_parquet\").show())"
   ]
  },
  {
   "cell_type": "code",
   "execution_count": 9,
   "metadata": {},
   "outputs": [],
   "source": [
    "import random\n",
    "import shutil\n",
    "from pyspark.sql.functions import *\n",
    "from pyspark.sql.types import *\n",
    "\n",
    "def random_checkpoint_dir():\n",
    "    return \"covid_parquet/chkpt/%s\" % str(random.randint(0, 10000))\n",
    "\n",
    "@udf(returnType=StringType())\n",
    "def random_ciudad_ubicacion():\n",
    "    return str(random.choice([\"Bogotá\", \"Medellín\", \"Itagüí\", \"Cartagena\", \"Palmira\", \"Neiva\", \"Villavicencio\"]))\n",
    "\n",
    "@udf(returnType=StringType())\n",
    "def random_departamento_distrito():\n",
    "    return str(random.choice([\"Bogotá D.C.\", \"Antioquia\", \"Valle del Cauca\", \"Meta\", \"Huila\", \"Cartagena D.T. y C\"]))\n",
    "\n",
    "@udf(returnType=StringType())\n",
    "def random_atencion():\n",
    "    return str(random.choice([\"Recuperado\", \"Casa\", \"Hospital\", \"Hospital UCI\"]))\n",
    "\n",
    "@udf(returnType=StringType())\n",
    "def random_edad():\n",
    "    return str(random.randint(1, 100))\n",
    "\n",
    "@udf(returnType=StringType())\n",
    "def random_sexo():\n",
    "    return str(random.choice([\"F\", \"M\"]))\n",
    "\n",
    "@udf(returnType=StringType())\n",
    "def random_tipo():\n",
    "    return str(random.choice([\"Importado\", \"Relacionado\", \"En estudio\"]))\n",
    "\n",
    "@udf(returnType=StringType())\n",
    "def random_pais_procedencia():\n",
    "    return str(random.choice([\"Colombia\", \"España\", \"Estados Unidos\", \"Italia\"]))\n",
    "\n",
    "# Creamos una flujo de datos\n",
    "def generate_include_data_stream_parquet(tbl_format, tbl_path):\n",
    "  \n",
    "  stream_data = spark.readStream.format(\"rate\").option(\"rowsPerSecond\", 5).load() \\\n",
    "    .withColumn(\"id_caso\", (1161 + col(\"value\")).cast(StringType())) \\\n",
    "    .withColumn(\"fecha_diagnostico\", current_date().cast(StringType())) \\\n",
    "    .withColumn(\"ciudad_ubicacion\", random_ciudad_ubicacion()) \\\n",
    "    .withColumn(\"departamento_distrito\", random_departamento_distrito()) \\\n",
    "    .withColumn(\"atencion\", random_atencion()) \\\n",
    "    .withColumn(\"edad\", random_edad()) \\\n",
    "    .withColumn(\"sexo\", random_sexo()) \\\n",
    "    .withColumn(\"tipo\", random_tipo()) \\\n",
    "    .withColumn(\"pais_procedencia\", random_pais_procedencia())\n",
    "\n",
    "  query = stream_data.writeStream \\\n",
    "    .format(tbl_format) \\\n",
    "    .option(\"checkpointLocation\", random_checkpoint_dir()) \\\n",
    "    .trigger(processingTime = \"10 seconds\") \\\n",
    "    .start(tbl_path)\n",
    "\n",
    "  return query\n",
    "\n",
    "# Function to stop all streaming queries \n",
    "def stop_all_streams():\n",
    "    # Stop all the streams\n",
    "    print(\"Stopping all streams\")\n",
    "    for s in spark.streams.active:\n",
    "        s.stop()\n",
    "    print(\"Stopped all streams\")\n",
    "    print(\"Deleting checkpoints\")\n",
    "    shutil.rmtree(\"covid_parquet/chkpt\")\n",
    "    print(\"Deleted checkpoints\")"
   ]
  },
  {
   "cell_type": "code",
   "execution_count": 10,
   "metadata": {},
   "outputs": [],
   "source": [
    "stream = generate_include_data_stream_parquet(\n",
    "    tbl_format = \"parquet\", \n",
    "    tbl_path = \"covid_parquet\")"
   ]
  },
  {
   "cell_type": "code",
   "execution_count": 21,
   "metadata": {},
   "outputs": [],
   "source": [
    "df2 = spark.read.format(\"parquet\").load(\"covid_parquet\")"
   ]
  },
  {
   "cell_type": "code",
   "execution_count": 22,
   "metadata": {},
   "outputs": [
    {
     "name": "stdout",
     "output_type": "stream",
     "text": [
      "440\n"
     ]
    }
   ],
   "source": [
    "print(df2.count())"
   ]
  },
  {
   "cell_type": "code",
   "execution_count": 18,
   "metadata": {},
   "outputs": [
    {
     "name": "stdout",
     "output_type": "stream",
     "text": [
      "+-----------------------+-----+-------+-----------------+----------------+---------------------+------------+----+----+-----------+----------------+\n",
      "|timestamp              |value|id_caso|fecha_diagnostico|ciudad_ubicacion|departamento_distrito|atencion    |edad|sexo|tipo       |pais_procedencia|\n",
      "+-----------------------+-----+-------+-----------------+----------------+---------------------+------------+----+----+-----------+----------------+\n",
      "|2020-07-29 18:56:19.818|90   |1251   |2020-07-29       |Villavicencio   |Valle del Cauca      |Recuperado  |93  |F   |Importado  |España          |\n",
      "|2020-07-29 18:56:20.018|91   |1252   |2020-07-29       |Bogotá          |Valle del Cauca      |Casa        |99  |M   |En estudio |España          |\n",
      "|2020-07-29 18:56:20.218|92   |1253   |2020-07-29       |Villavicencio   |Valle del Cauca      |Hospital    |31  |M   |En estudio |España          |\n",
      "|2020-07-29 18:56:20.418|93   |1254   |2020-07-29       |Itagüí          |Antioquia            |Recuperado  |8   |M   |Importado  |Italia          |\n",
      "|2020-07-29 18:56:20.618|94   |1255   |2020-07-29       |Itagüí          |Huila                |Casa        |68  |F   |Relacionado|Colombia        |\n",
      "|2020-07-29 18:56:20.818|95   |1256   |2020-07-29       |Neiva           |Bogotá D.C.          |Hospital UCI|48  |F   |En estudio |Estados Unidos  |\n",
      "|2020-07-29 18:56:21.018|96   |1257   |2020-07-29       |Medellín        |Bogotá D.C.          |Recuperado  |6   |M   |En estudio |España          |\n",
      "|2020-07-29 18:56:21.218|97   |1258   |2020-07-29       |Neiva           |Antioquia            |Hospital    |73  |M   |Importado  |Colombia        |\n",
      "|2020-07-29 18:56:21.418|98   |1259   |2020-07-29       |Bogotá          |Valle del Cauca      |Recuperado  |77  |M   |Importado  |España          |\n",
      "|2020-07-29 18:56:21.618|99   |1260   |2020-07-29       |Palmira         |Huila                |Recuperado  |61  |F   |En estudio |Colombia        |\n",
      "|2020-07-29 18:56:21.818|100  |1261   |2020-07-29       |Palmira         |Meta                 |Casa        |50  |F   |En estudio |Colombia        |\n",
      "|2020-07-29 18:56:22.018|101  |1262   |2020-07-29       |Bogotá          |Antioquia            |Hospital UCI|24  |F   |Importado  |España          |\n",
      "|2020-07-29 18:56:22.218|102  |1263   |2020-07-29       |Cartagena       |Cartagena D.T. y C   |Hospital UCI|18  |F   |Relacionado|Estados Unidos  |\n",
      "|2020-07-29 18:56:22.418|103  |1264   |2020-07-29       |Bogotá          |Huila                |Casa        |33  |F   |Importado  |Estados Unidos  |\n",
      "|2020-07-29 18:56:22.618|104  |1265   |2020-07-29       |Villavicencio   |Cartagena D.T. y C   |Hospital UCI|83  |F   |Importado  |Italia          |\n",
      "|2020-07-29 18:56:22.818|105  |1266   |2020-07-29       |Bogotá          |Antioquia            |Hospital    |16  |F   |Relacionado|España          |\n",
      "|2020-07-29 18:56:23.018|106  |1267   |2020-07-29       |Cartagena       |Cartagena D.T. y C   |Recuperado  |21  |F   |En estudio |España          |\n",
      "|2020-07-29 18:56:23.218|107  |1268   |2020-07-29       |Neiva           |Antioquia            |Recuperado  |71  |M   |En estudio |Italia          |\n",
      "|2020-07-29 18:56:23.418|108  |1269   |2020-07-29       |Itagüí          |Valle del Cauca      |Casa        |61  |M   |Relacionado|Italia          |\n",
      "|2020-07-29 18:56:23.618|109  |1270   |2020-07-29       |Itagüí          |Cartagena D.T. y C   |Hospital UCI|36  |M   |En estudio |España          |\n",
      "+-----------------------+-----+-------+-----------------+----------------+---------------------+------------+----+----+-----------+----------------+\n",
      "only showing top 20 rows\n",
      "\n"
     ]
    },
    {
     "data": {
      "text/plain": [
       "None"
      ]
     },
     "metadata": {},
     "output_type": "display_data"
    }
   ],
   "source": [
    "display(df2.show(truncate=False))"
   ]
  },
  {
   "cell_type": "code",
   "execution_count": 19,
   "metadata": {},
   "outputs": [
    {
     "name": "stdout",
     "output_type": "stream",
     "text": [
      "root\n",
      " |-- timestamp: timestamp (nullable = true)\n",
      " |-- value: long (nullable = true)\n",
      " |-- id_caso: string (nullable = true)\n",
      " |-- fecha_diagnostico: string (nullable = false)\n",
      " |-- ciudad_ubicacion: string (nullable = true)\n",
      " |-- departamento_distrito: string (nullable = true)\n",
      " |-- atencion: string (nullable = true)\n",
      " |-- edad: string (nullable = true)\n",
      " |-- sexo: string (nullable = true)\n",
      " |-- tipo: string (nullable = true)\n",
      " |-- pais_procedencia: string (nullable = true)\n",
      "\n"
     ]
    },
    {
     "data": {
      "text/plain": [
       "None"
      ]
     },
     "metadata": {},
     "output_type": "display_data"
    }
   ],
   "source": [
    "display(df2.printSchema())"
   ]
  },
  {
   "cell_type": "code",
   "execution_count": 23,
   "metadata": {},
   "outputs": [
    {
     "name": "stdout",
     "output_type": "stream",
     "text": [
      "Stopping all streams\n",
      "Stopped all streams\n",
      "Deleting checkpoints\n",
      "Deleted checkpoints\n"
     ]
    }
   ],
   "source": [
    "stop_all_streams()"
   ]
  },
  {
   "cell_type": "code",
   "execution_count": 24,
   "metadata": {},
   "outputs": [],
   "source": [
    "df3 = spark.read.option(\"mergeSchema\", \"true\").format(\"parquet\").load(\"covid_parquet/*\")"
   ]
  },
  {
   "cell_type": "code",
   "execution_count": 25,
   "metadata": {},
   "outputs": [
    {
     "name": "stdout",
     "output_type": "stream",
     "text": [
      "1651\n"
     ]
    }
   ],
   "source": [
    "print(df3.count())"
   ]
  },
  {
   "cell_type": "code",
   "execution_count": 26,
   "metadata": {},
   "outputs": [
    {
     "name": "stdout",
     "output_type": "stream",
     "text": [
      "root\n",
      " |-- timestamp: timestamp (nullable = true)\n",
      " |-- value: long (nullable = true)\n",
      " |-- id_caso: string (nullable = true)\n",
      " |-- fecha_diagnostico: string (nullable = true)\n",
      " |-- ciudad_ubicacion: string (nullable = true)\n",
      " |-- departamento_distrito: string (nullable = true)\n",
      " |-- atencion: string (nullable = true)\n",
      " |-- edad: string (nullable = true)\n",
      " |-- sexo: string (nullable = true)\n",
      " |-- tipo: string (nullable = true)\n",
      " |-- pais_procedencia: string (nullable = true)\n",
      "\n",
      "None\n"
     ]
    }
   ],
   "source": [
    "print(df3.printSchema())"
   ]
  },
  {
   "cell_type": "code",
   "execution_count": 27,
   "metadata": {},
   "outputs": [
    {
     "name": "stdout",
     "output_type": "stream",
     "text": [
      "+---------+-----+-------+-----------------+----------------+---------------------+----------+----+----+-----------+-------------------------+\n",
      "|timestamp|value|id_caso|fecha_diagnostico|ciudad_ubicacion|departamento_distrito|atencion  |edad|sexo|tipo       |pais_procedencia         |\n",
      "+---------+-----+-------+-----------------+----------------+---------------------+----------+----+----+-----------+-------------------------+\n",
      "|null     |null |1      |06/03/2020       |Bogotá          |Bogotá D.C.          |Recuperado|19  |F   |Importado  |Italia                   |\n",
      "|null     |null |2      |09/03/2020       |Buga            |Valle del Cauca      |Recuperado|34  |M   |Importado  |España                   |\n",
      "|null     |null |3      |09/03/2020       |Medellín        |Antioquia            |Recuperado|50  |F   |Importado  |España                   |\n",
      "|null     |null |4      |11/03/2020       |Medellín        |Antioquia            |Recuperado|55  |M   |Relacionado|Colombia                 |\n",
      "|null     |null |5      |11/03/2020       |Medellín        |Antioquia            |Recuperado|25  |M   |Relacionado|Colombia                 |\n",
      "|null     |null |6      |11/03/2020       |Itagüí          |Antioquia            |Casa      |27  |F   |Relacionado|Colombia                 |\n",
      "|null     |null |7      |11/03/2020       |Cartagena       |Cartagena D.T. y C   |Recuperado|85  |F   |Importado  |Estados Unidos           |\n",
      "|null     |null |8      |11/03/2020       |Bogotá          |Bogotá D.C.          |Recuperado|22  |F   |Importado  |España                   |\n",
      "|null     |null |9      |11/03/2020       |Bogotá          |Bogotá D.C.          |Recuperado|28  |F   |Importado  |España - Italia          |\n",
      "|null     |null |10     |12/03/2020       |Bogotá          |Bogotá D.C.          |Recuperado|36  |F   |Importado  |España                   |\n",
      "|null     |null |11     |12/03/2020       |Bogotá          |Bogotá D.C.          |Casa      |42  |F   |Importado  |España                   |\n",
      "|null     |null |12     |12/03/2020       |Neiva           |Huila                |Casa      |74  |F   |Importado  |Italia                   |\n",
      "|null     |null |13     |12/03/2020       |Neiva           |Huila                |Casa      |68  |F   |Relacionado|Colombia                 |\n",
      "|null     |null |14     |13/03/2020       |Palmira         |Valle del Cauca      |Recuperado|48  |M   |Importado  |España                   |\n",
      "|null     |null |15     |13/03/2020       |Villavicencio   |Meta                 |Recuperado|30  |F   |Importado  |España                   |\n",
      "|null     |null |16     |13/03/2020       |Bogotá          |Bogotá D.C.          |Recuperado|61  |F   |Importado  |Italia - Ucrania - España|\n",
      "|null     |null |17     |14/03/2020       |Bogotá          |Bogotá D.C.          |Casa      |73  |F   |Importado  |España                   |\n",
      "|null     |null |18     |14/03/2020       |Bogotá          |Bogotá D.C.          |Casa      |54  |M   |Importado  |España                   |\n",
      "|null     |null |19     |14/03/2020       |Bogotá          |Bogotá D.C.          |Recuperado|54  |F   |Relacionado|Colombia                 |\n",
      "|null     |null |20     |14/03/2020       |Medellín        |Antioquia            |Recuperado|26  |F   |Relacionado|Colombia                 |\n",
      "+---------+-----+-------+-----------------+----------------+---------------------+----------+----+----+-----------+-------------------------+\n",
      "only showing top 20 rows\n",
      "\n",
      "None\n"
     ]
    }
   ],
   "source": [
    "print(df3.show(truncate=False))"
   ]
  },
  {
   "cell_type": "code",
   "execution_count": 28,
   "metadata": {},
   "outputs": [],
   "source": [
    "df_delta = spark.read.format(\"delta\").load(\"covid_delta\")\n",
    "df_delta.createOrReplaceTempView(\"covid_delta\")"
   ]
  },
  {
   "cell_type": "code",
   "execution_count": 37,
   "metadata": {},
   "outputs": [
    {
     "name": "stdout",
     "output_type": "stream",
     "text": [
      "+--------+\n",
      "|count(1)|\n",
      "+--------+\n",
      "|    6521|\n",
      "+--------+\n",
      "\n"
     ]
    },
    {
     "data": {
      "text/plain": [
       "None"
      ]
     },
     "metadata": {},
     "output_type": "display_data"
    }
   ],
   "source": [
    "display(spark.sql(\"select count(1) from covid_delta\").show())"
   ]
  },
  {
   "cell_type": "code",
   "execution_count": 30,
   "metadata": {},
   "outputs": [
    {
     "name": "stdout",
     "output_type": "stream",
     "text": [
      "root\n",
      " |-- id_caso: string (nullable = true)\n",
      " |-- fecha_diagnostico: string (nullable = true)\n",
      " |-- ciudad_ubicacion: string (nullable = true)\n",
      " |-- departamento_distrito: string (nullable = true)\n",
      " |-- atencion: string (nullable = true)\n",
      " |-- edad: string (nullable = true)\n",
      " |-- sexo: string (nullable = true)\n",
      " |-- tipo: string (nullable = true)\n",
      " |-- pais_procedencia: string (nullable = true)\n",
      "\n",
      "None\n"
     ]
    }
   ],
   "source": [
    "print(df_delta.printSchema())"
   ]
  },
  {
   "cell_type": "code",
   "execution_count": 31,
   "metadata": {},
   "outputs": [
    {
     "name": "stdout",
     "output_type": "stream",
     "text": [
      "+-------+-----------------+----------------+---------------------+----------+----+----+-----------+-------------------------+\n",
      "|id_caso|fecha_diagnostico|ciudad_ubicacion|departamento_distrito|atencion  |edad|sexo|tipo       |pais_procedencia         |\n",
      "+-------+-----------------+----------------+---------------------+----------+----+----+-----------+-------------------------+\n",
      "|1      |06/03/2020       |Bogotá          |Bogotá D.C.          |Recuperado|19  |F   |Importado  |Italia                   |\n",
      "|2      |09/03/2020       |Buga            |Valle del Cauca      |Recuperado|34  |M   |Importado  |España                   |\n",
      "|3      |09/03/2020       |Medellín        |Antioquia            |Recuperado|50  |F   |Importado  |España                   |\n",
      "|4      |11/03/2020       |Medellín        |Antioquia            |Recuperado|55  |M   |Relacionado|Colombia                 |\n",
      "|5      |11/03/2020       |Medellín        |Antioquia            |Recuperado|25  |M   |Relacionado|Colombia                 |\n",
      "|6      |11/03/2020       |Itagüí          |Antioquia            |Casa      |27  |F   |Relacionado|Colombia                 |\n",
      "|7      |11/03/2020       |Cartagena       |Cartagena D.T. y C   |Recuperado|85  |F   |Importado  |Estados Unidos           |\n",
      "|8      |11/03/2020       |Bogotá          |Bogotá D.C.          |Recuperado|22  |F   |Importado  |España                   |\n",
      "|9      |11/03/2020       |Bogotá          |Bogotá D.C.          |Recuperado|28  |F   |Importado  |España - Italia          |\n",
      "|10     |12/03/2020       |Bogotá          |Bogotá D.C.          |Recuperado|36  |F   |Importado  |España                   |\n",
      "|11     |12/03/2020       |Bogotá          |Bogotá D.C.          |Casa      |42  |F   |Importado  |España                   |\n",
      "|12     |12/03/2020       |Neiva           |Huila                |Casa      |74  |F   |Importado  |Italia                   |\n",
      "|13     |12/03/2020       |Neiva           |Huila                |Casa      |68  |F   |Relacionado|Colombia                 |\n",
      "|14     |13/03/2020       |Palmira         |Valle del Cauca      |Recuperado|48  |M   |Importado  |España                   |\n",
      "|15     |13/03/2020       |Villavicencio   |Meta                 |Recuperado|30  |F   |Importado  |España                   |\n",
      "|16     |13/03/2020       |Bogotá          |Bogotá D.C.          |Recuperado|61  |F   |Importado  |Italia - Ucrania - España|\n",
      "|17     |14/03/2020       |Bogotá          |Bogotá D.C.          |Casa      |73  |F   |Importado  |España                   |\n",
      "|18     |14/03/2020       |Bogotá          |Bogotá D.C.          |Casa      |54  |M   |Importado  |España                   |\n",
      "|19     |14/03/2020       |Bogotá          |Bogotá D.C.          |Recuperado|54  |F   |Relacionado|Colombia                 |\n",
      "|20     |14/03/2020       |Medellín        |Antioquia            |Recuperado|26  |F   |Relacionado|Colombia                 |\n",
      "+-------+-----------------+----------------+---------------------+----------+----+----+-----------+-------------------------+\n",
      "only showing top 20 rows\n",
      "\n"
     ]
    },
    {
     "data": {
      "text/plain": [
       "None"
      ]
     },
     "metadata": {},
     "output_type": "display_data"
    }
   ],
   "source": [
    "display(spark.sql(\"select * from covid_delta\").show(truncate=False))"
   ]
  },
  {
   "cell_type": "code",
   "execution_count": 32,
   "metadata": {},
   "outputs": [
    {
     "data": {
      "text/plain": [
       "<pyspark.sql.streaming.StreamingQuery at 0x117964760>"
      ]
     },
     "execution_count": 32,
     "metadata": {},
     "output_type": "execute_result"
    }
   ],
   "source": [
    "spark.readStream.format(\"delta\").load(\"covid_delta\").createOrReplaceTempView(\"covid_delta_stream\")\n",
    "\n",
    "spark.sql(\"select count(*) from covid_delta_stream\") \\\n",
    "    .writeStream \\\n",
    "    .outputMode(\"complete\") \\\n",
    "    .format(\"console\") \\\n",
    "    .start()"
   ]
  },
  {
   "cell_type": "code",
   "execution_count": 33,
   "metadata": {},
   "outputs": [],
   "source": [
    "stream2 = generate_include_data_stream_parquet(\n",
    "    tbl_format = \"delta\", \n",
    "    tbl_path = \"covid_delta\")"
   ]
  },
  {
   "cell_type": "code",
   "execution_count": 34,
   "metadata": {},
   "outputs": [],
   "source": [
    "# Creamos una flujo de datos corregido, elegimos columnas de acuerdo al esquema\n",
    "def generate_include_data_stream_parquet_fix(tbl_format, tbl_path):\n",
    "  \n",
    "  stream_data = spark.readStream.format(\"rate\").option(\"rowsPerSecond\", 80).load() \\\n",
    "    .withColumn(\"id_caso\", (1161 + col(\"value\")).cast(StringType())) \\\n",
    "    .withColumn(\"fecha_diagnostico\", current_date().cast(StringType())) \\\n",
    "    .withColumn(\"ciudad_ubicacion\", random_ciudad_ubicacion()) \\\n",
    "    .withColumn(\"departamento_distrito\", random_departamento_distrito()) \\\n",
    "    .withColumn(\"atencion\", random_atencion()) \\\n",
    "    .withColumn(\"edad\", random_edad()) \\\n",
    "    .withColumn(\"sexo\", random_sexo()) \\\n",
    "    .withColumn(\"tipo\", random_tipo()) \\\n",
    "    .withColumn(\"pais_procedencia\", random_pais_procedencia()) \\\n",
    "    .select(\"id_caso\", \"fecha_diagnostico\", \"ciudad_ubicacion\", \"departamento_distrito\", \"atencion\", \"edad\", \"sexo\", \"tipo\", \"pais_procedencia\")\n",
    "\n",
    "  query = stream_data.writeStream \\\n",
    "    .format(tbl_format) \\\n",
    "    .option(\"checkpointLocation\", random_checkpoint_dir()) \\\n",
    "    .trigger(processingTime = \"10 seconds\") \\\n",
    "    .start(tbl_path)\n",
    "\n",
    "  return query"
   ]
  },
  {
   "cell_type": "code",
   "execution_count": 35,
   "metadata": {},
   "outputs": [],
   "source": [
    "stream2 = generate_include_data_stream_parquet_fix(\n",
    "    tbl_format = \"delta\", \n",
    "    tbl_path = \"covid_delta\")"
   ]
  },
  {
   "cell_type": "code",
   "execution_count": 39,
   "metadata": {},
   "outputs": [
    {
     "name": "stdout",
     "output_type": "stream",
     "text": [
      "Stopping all streams\n",
      "Stopped all streams\n",
      "Deleting checkpoints\n",
      "Deleted checkpoints\n"
     ]
    }
   ],
   "source": [
    "stop_all_streams()"
   ]
  },
  {
   "cell_type": "code",
   "execution_count": 38,
   "metadata": {},
   "outputs": [],
   "source": [
    "stream3 = generate_include_data_stream_parquet_fix(\n",
    "    tbl_format = \"delta\", \n",
    "    tbl_path = \"covid_delta\")"
   ]
  },
  {
   "cell_type": "markdown",
   "metadata": {},
   "source": [
    "# Evolución de esquema"
   ]
  },
  {
   "cell_type": "code",
   "execution_count": 40,
   "metadata": {},
   "outputs": [],
   "source": [
    "diagnosticos = [\n",
    "    (\"cov1\", \"29/07/2020\", \"Bogotá\", \"Bogotá D.C.\", \"Hospital UCI\", \"78\", \"M\", \"Relacionado\", \"Colombia\", \"Molecular\", True),\n",
    "    (\"cov2\", \"29/07/2020\", \"Bogotá\", \"Bogotá D.C.\", \"Hospital\", \"38\", \"F\", \"Relacionado\", \"Colombia\", \"Antígeno\", False),\n",
    "    (\"cov3\", \"29/07/2020\", \"Medellín\", \"Antioquia\", \"Casa\", \"24\", \"F\", \"Relacionado\", \"Colombia\", \"Antígeno\", True),\n",
    "    (\"cov4\", \"29/07/2020\", \"Itagüí\", \"Antioquia\", \"Recuperado\", \"42\", \"M\", \"Relacionado\", \"Colombia\", \"Anticuerpos\", True)\n",
    "]\n",
    "\n",
    "columnas = [\"id_caso\", \"fecha_diagnostico\", \"ciudad_ubicacion\", \"departamento_distrito\", \"atencion\", \"edad\", \"sexo\", \"tipo\", \"pais_procedencia\", \"tipo_prueba\", \"confirmado_pcr\"]\n",
    "\n",
    "covid_data_update = spark.createDataFrame(diagnosticos, columnas)\n",
    "  \n",
    "covid_data_update.write.format(\"delta\").mode(\"append\").option(\"mergeSchema\", \"true\").save(\"covid_delta\")"
   ]
  },
  {
   "cell_type": "code",
   "execution_count": 41,
   "metadata": {},
   "outputs": [],
   "source": [
    "df_delta_updated = spark.read.format(\"delta\").load(\"covid_delta\")"
   ]
  },
  {
   "cell_type": "code",
   "execution_count": 42,
   "metadata": {},
   "outputs": [
    {
     "name": "stdout",
     "output_type": "stream",
     "text": [
      "root\n",
      " |-- id_caso: string (nullable = true)\n",
      " |-- fecha_diagnostico: string (nullable = true)\n",
      " |-- ciudad_ubicacion: string (nullable = true)\n",
      " |-- departamento_distrito: string (nullable = true)\n",
      " |-- atencion: string (nullable = true)\n",
      " |-- edad: string (nullable = true)\n",
      " |-- sexo: string (nullable = true)\n",
      " |-- tipo: string (nullable = true)\n",
      " |-- pais_procedencia: string (nullable = true)\n",
      " |-- tipo_prueba: string (nullable = true)\n",
      " |-- confirmado_pcr: boolean (nullable = true)\n",
      "\n"
     ]
    }
   ],
   "source": [
    "df_delta_updated.printSchema()"
   ]
  },
  {
   "cell_type": "code",
   "execution_count": 43,
   "metadata": {},
   "outputs": [
    {
     "name": "stdout",
     "output_type": "stream",
     "text": [
      "+-------+-----------------+----------------+---------------------+----------+----+----+-----------+--------------------+-----------+--------------+\n",
      "|id_caso|fecha_diagnostico|ciudad_ubicacion|departamento_distrito|  atencion|edad|sexo|       tipo|    pais_procedencia|tipo_prueba|confirmado_pcr|\n",
      "+-------+-----------------+----------------+---------------------+----------+----+----+-----------+--------------------+-----------+--------------+\n",
      "|      1|       06/03/2020|          Bogotá|          Bogotá D.C.|Recuperado|  19|   F|  Importado|              Italia|       null|          null|\n",
      "|      2|       09/03/2020|            Buga|      Valle del Cauca|Recuperado|  34|   M|  Importado|              España|       null|          null|\n",
      "|      3|       09/03/2020|        Medellín|            Antioquia|Recuperado|  50|   F|  Importado|              España|       null|          null|\n",
      "|      4|       11/03/2020|        Medellín|            Antioquia|Recuperado|  55|   M|Relacionado|            Colombia|       null|          null|\n",
      "|      5|       11/03/2020|        Medellín|            Antioquia|Recuperado|  25|   M|Relacionado|            Colombia|       null|          null|\n",
      "|      6|       11/03/2020|          Itagüí|            Antioquia|      Casa|  27|   F|Relacionado|            Colombia|       null|          null|\n",
      "|      7|       11/03/2020|       Cartagena|   Cartagena D.T. y C|Recuperado|  85|   F|  Importado|      Estados Unidos|       null|          null|\n",
      "|      8|       11/03/2020|          Bogotá|          Bogotá D.C.|Recuperado|  22|   F|  Importado|              España|       null|          null|\n",
      "|      9|       11/03/2020|          Bogotá|          Bogotá D.C.|Recuperado|  28|   F|  Importado|     España - Italia|       null|          null|\n",
      "|     10|       12/03/2020|          Bogotá|          Bogotá D.C.|Recuperado|  36|   F|  Importado|              España|       null|          null|\n",
      "|     11|       12/03/2020|          Bogotá|          Bogotá D.C.|      Casa|  42|   F|  Importado|              España|       null|          null|\n",
      "|     12|       12/03/2020|           Neiva|                Huila|      Casa|  74|   F|  Importado|              Italia|       null|          null|\n",
      "|     13|       12/03/2020|           Neiva|                Huila|      Casa|  68|   F|Relacionado|            Colombia|       null|          null|\n",
      "|     14|       13/03/2020|         Palmira|      Valle del Cauca|Recuperado|  48|   M|  Importado|              España|       null|          null|\n",
      "|     15|       13/03/2020|   Villavicencio|                 Meta|Recuperado|  30|   F|  Importado|              España|       null|          null|\n",
      "|     16|       13/03/2020|          Bogotá|          Bogotá D.C.|Recuperado|  61|   F|  Importado|Italia - Ucrania ...|       null|          null|\n",
      "|     17|       14/03/2020|          Bogotá|          Bogotá D.C.|      Casa|  73|   F|  Importado|              España|       null|          null|\n",
      "|     18|       14/03/2020|          Bogotá|          Bogotá D.C.|      Casa|  54|   M|  Importado|              España|       null|          null|\n",
      "|     19|       14/03/2020|          Bogotá|          Bogotá D.C.|Recuperado|  54|   F|Relacionado|            Colombia|       null|          null|\n",
      "|     20|       14/03/2020|        Medellín|            Antioquia|Recuperado|  26|   F|Relacionado|            Colombia|       null|          null|\n",
      "+-------+-----------------+----------------+---------------------+----------+----+----+-----------+--------------------+-----------+--------------+\n",
      "only showing top 20 rows\n",
      "\n"
     ]
    }
   ],
   "source": [
    "df_delta_updated.show(truncate=True)"
   ]
  },
  {
   "cell_type": "code",
   "execution_count": 51,
   "metadata": {},
   "outputs": [
    {
     "name": "stdout",
     "output_type": "stream",
     "text": [
      "+-------+-----------------+----------------+---------------------+--------+----+----+----+----------------+-----------+--------------+\n",
      "|id_caso|fecha_diagnostico|ciudad_ubicacion|departamento_distrito|atencion|edad|sexo|tipo|pais_procedencia|tipo_prueba|confirmado_pcr|\n",
      "+-------+-----------------+----------------+---------------------+--------+----+----+----+----------------+-----------+--------------+\n",
      "+-------+-----------------+----------------+---------------------+--------+----+----+----+----------------+-----------+--------------+\n",
      "\n"
     ]
    }
   ],
   "source": [
    "df_delta_updated.filter(df_delta_updated[\"id_caso\"] == \"cov4\").show()"
   ]
  },
  {
   "cell_type": "markdown",
   "metadata": {},
   "source": [
    "## Eliminar pruebas de anticuerpos"
   ]
  },
  {
   "cell_type": "code",
   "execution_count": 47,
   "metadata": {},
   "outputs": [],
   "source": [
    "spark.read.format(\"delta\").load(\"covid_delta\").createOrReplaceTempView(\"covid_delta\")"
   ]
  },
  {
   "cell_type": "code",
   "execution_count": 48,
   "metadata": {},
   "outputs": [],
   "source": [
    "from delta.tables import *\n",
    "\n",
    "deltaTable = DeltaTable.forPath(spark, \"covid_delta\")\n",
    "deltaTable.delete(\"tipo_prueba = 'Anticuerpos'\")"
   ]
  },
  {
   "cell_type": "code",
   "execution_count": 49,
   "metadata": {},
   "outputs": [
    {
     "name": "stdout",
     "output_type": "stream",
     "text": [
      "+-------+-----------------+----------------+---------------------+--------+----+----+----+----------------+-----------+--------------+\n",
      "|id_caso|fecha_diagnostico|ciudad_ubicacion|departamento_distrito|atencion|edad|sexo|tipo|pais_procedencia|tipo_prueba|confirmado_pcr|\n",
      "+-------+-----------------+----------------+---------------------+--------+----+----+----+----------------+-----------+--------------+\n",
      "+-------+-----------------+----------------+---------------------+--------+----+----+----+----------------+-----------+--------------+\n",
      "\n"
     ]
    },
    {
     "data": {
      "text/plain": [
       "None"
      ]
     },
     "metadata": {},
     "output_type": "display_data"
    }
   ],
   "source": [
    "display(spark.sql(\"select * from covid_delta where tipo_prueba='Anticuerpos'\").show())"
   ]
  },
  {
   "cell_type": "code",
   "execution_count": 50,
   "metadata": {},
   "outputs": [
    {
     "name": "stdout",
     "output_type": "stream",
     "text": [
      "+-------+-------------------+------+--------+----------------+--------------------------------------------------------------------------------------+----+--------+---------+-----------+--------------+-------------+----------------------------------------------------------------------------------------+------------+\n",
      "|version|timestamp          |userId|userName|operation       |operationParameters                                                                   |job |notebook|clusterId|readVersion|isolationLevel|isBlindAppend|operationMetrics                                                                        |userMetadata|\n",
      "+-------+-------------------+------+--------+----------------+--------------------------------------------------------------------------------------+----+--------+---------+-----------+--------------+-------------+----------------------------------------------------------------------------------------+------------+\n",
      "|17     |2020-07-29 19:10:47|null  |null    |DELETE          |[predicate -> [\"(`tipo_prueba` = 'Anticuerpos')\"]]                                    |null|null    |null     |16         |null          |false        |[numRemovedFiles -> 1, numDeletedRows -> 1, numAddedFiles -> 1, numCopiedRows -> 3]     |null        |\n",
      "|16     |2020-07-29 19:08:50|null  |null    |WRITE           |[mode -> Append, partitionBy -> []]                                                   |null|null    |null     |15         |null          |true         |[numFiles -> 1, numOutputBytes -> 3092, numOutputRows -> 4]                             |null        |\n",
      "|15     |2020-07-29 19:06:52|null  |null    |STREAMING UPDATE|[outputMode -> Append, queryId -> 666704d2-4890-4e70-a244-7adb22d2aaf8, epochId -> 11]|null|null    |null     |13         |null          |true         |[numRemovedFiles -> 0, numOutputRows -> 800, numOutputBytes -> 8486, numAddedFiles -> 1]|null        |\n",
      "|14     |2020-07-29 19:06:50|null  |null    |STREAMING UPDATE|[outputMode -> Append, queryId -> ac6bf136-3c48-4692-952f-a245417219d3, epochId -> 2] |null|null    |null     |13         |null          |true         |[numRemovedFiles -> 0, numOutputRows -> 800, numOutputBytes -> 8511, numAddedFiles -> 1]|null        |\n",
      "|13     |2020-07-29 19:06:42|null  |null    |STREAMING UPDATE|[outputMode -> Append, queryId -> 666704d2-4890-4e70-a244-7adb22d2aaf8, epochId -> 10]|null|null    |null     |11         |null          |true         |[numRemovedFiles -> 0, numOutputRows -> 800, numOutputBytes -> 8390, numAddedFiles -> 1]|null        |\n",
      "|12     |2020-07-29 19:06:40|null  |null    |STREAMING UPDATE|[outputMode -> Append, queryId -> ac6bf136-3c48-4692-952f-a245417219d3, epochId -> 1] |null|null    |null     |11         |null          |true         |[numRemovedFiles -> 0, numOutputRows -> 320, numOutputBytes -> 5242, numAddedFiles -> 1]|null        |\n",
      "|11     |2020-07-29 19:06:36|null  |null    |STREAMING UPDATE|[outputMode -> Append, queryId -> ac6bf136-3c48-4692-952f-a245417219d3, epochId -> 0] |null|null    |null     |10         |null          |true         |[numRemovedFiles -> 0, numOutputRows -> 0, numOutputBytes -> 1051, numAddedFiles -> 1]  |null        |\n",
      "|10     |2020-07-29 19:06:30|null  |null    |STREAMING UPDATE|[outputMode -> Append, queryId -> 666704d2-4890-4e70-a244-7adb22d2aaf8, epochId -> 9] |null|null    |null     |9          |null          |true         |[numRemovedFiles -> 0, numOutputRows -> 800, numOutputBytes -> 8503, numAddedFiles -> 1]|null        |\n",
      "|9      |2020-07-29 19:06:20|null  |null    |STREAMING UPDATE|[outputMode -> Append, queryId -> 666704d2-4890-4e70-a244-7adb22d2aaf8, epochId -> 8] |null|null    |null     |8          |null          |true         |[numRemovedFiles -> 0, numOutputRows -> 800, numOutputBytes -> 8510, numAddedFiles -> 1]|null        |\n",
      "|8      |2020-07-29 19:06:10|null  |null    |STREAMING UPDATE|[outputMode -> Append, queryId -> 666704d2-4890-4e70-a244-7adb22d2aaf8, epochId -> 7] |null|null    |null     |7          |null          |true         |[numRemovedFiles -> 0, numOutputRows -> 800, numOutputBytes -> 8505, numAddedFiles -> 1]|null        |\n",
      "|7      |2020-07-29 19:06:00|null  |null    |STREAMING UPDATE|[outputMode -> Append, queryId -> 666704d2-4890-4e70-a244-7adb22d2aaf8, epochId -> 6] |null|null    |null     |6          |null          |true         |[numRemovedFiles -> 0, numOutputRows -> 800, numOutputBytes -> 8475, numAddedFiles -> 1]|null        |\n",
      "|6      |2020-07-29 19:05:50|null  |null    |STREAMING UPDATE|[outputMode -> Append, queryId -> 666704d2-4890-4e70-a244-7adb22d2aaf8, epochId -> 5] |null|null    |null     |5          |null          |true         |[numRemovedFiles -> 0, numOutputRows -> 800, numOutputBytes -> 8387, numAddedFiles -> 1]|null        |\n",
      "|5      |2020-07-29 19:05:40|null  |null    |STREAMING UPDATE|[outputMode -> Append, queryId -> 666704d2-4890-4e70-a244-7adb22d2aaf8, epochId -> 4] |null|null    |null     |4          |null          |true         |[numRemovedFiles -> 0, numOutputRows -> 800, numOutputBytes -> 8498, numAddedFiles -> 1]|null        |\n",
      "|4      |2020-07-29 19:05:30|null  |null    |STREAMING UPDATE|[outputMode -> Append, queryId -> 666704d2-4890-4e70-a244-7adb22d2aaf8, epochId -> 3] |null|null    |null     |3          |null          |true         |[numRemovedFiles -> 0, numOutputRows -> 800, numOutputBytes -> 8494, numAddedFiles -> 1]|null        |\n",
      "|3      |2020-07-29 19:05:20|null  |null    |STREAMING UPDATE|[outputMode -> Append, queryId -> 666704d2-4890-4e70-a244-7adb22d2aaf8, epochId -> 2] |null|null    |null     |2          |null          |true         |[numRemovedFiles -> 0, numOutputRows -> 800, numOutputBytes -> 8496, numAddedFiles -> 1]|null        |\n",
      "|2      |2020-07-29 19:05:10|null  |null    |STREAMING UPDATE|[outputMode -> Append, queryId -> 666704d2-4890-4e70-a244-7adb22d2aaf8, epochId -> 1] |null|null    |null     |1          |null          |true         |[numRemovedFiles -> 0, numOutputRows -> 560, numOutputBytes -> 6809, numAddedFiles -> 1]|null        |\n",
      "|1      |2020-07-29 19:05:02|null  |null    |STREAMING UPDATE|[outputMode -> Append, queryId -> 666704d2-4890-4e70-a244-7adb22d2aaf8, epochId -> 0] |null|null    |null     |0          |null          |true         |[numRemovedFiles -> 0, numOutputRows -> 0, numOutputBytes -> 1051, numAddedFiles -> 1]  |null        |\n",
      "|0      |2020-07-29 18:53:01|null  |null    |WRITE           |[mode -> ErrorIfExists, partitionBy -> []]                                            |null|null    |null     |null       |null          |true         |[numFiles -> 1, numOutputBytes -> 13353, numOutputRows -> 1161]                         |null        |\n",
      "+-------+-------------------+------+--------+----------------+--------------------------------------------------------------------------------------+----+--------+---------+-----------+--------------+-------------+----------------------------------------------------------------------------------------+------------+\n",
      "\n"
     ]
    },
    {
     "data": {
      "text/html": [
       "<div>\n",
       "<style scoped>\n",
       "    .dataframe tbody tr th:only-of-type {\n",
       "        vertical-align: middle;\n",
       "    }\n",
       "\n",
       "    .dataframe tbody tr th {\n",
       "        vertical-align: top;\n",
       "    }\n",
       "\n",
       "    .dataframe thead th {\n",
       "        text-align: right;\n",
       "    }\n",
       "</style>\n",
       "<table border=\"1\" class=\"dataframe\">\n",
       "  <thead>\n",
       "    <tr style=\"text-align: right;\">\n",
       "      <th></th>\n",
       "      <th>version</th>\n",
       "      <th>timestamp</th>\n",
       "      <th>userId</th>\n",
       "      <th>userName</th>\n",
       "      <th>operation</th>\n",
       "      <th>operationParameters</th>\n",
       "      <th>job</th>\n",
       "      <th>notebook</th>\n",
       "      <th>clusterId</th>\n",
       "      <th>readVersion</th>\n",
       "      <th>isolationLevel</th>\n",
       "      <th>isBlindAppend</th>\n",
       "      <th>operationMetrics</th>\n",
       "      <th>userMetadata</th>\n",
       "    </tr>\n",
       "  </thead>\n",
       "  <tbody>\n",
       "    <tr>\n",
       "      <th>0</th>\n",
       "      <td>17</td>\n",
       "      <td>2020-07-29 19:10:47</td>\n",
       "      <td>None</td>\n",
       "      <td>None</td>\n",
       "      <td>DELETE</td>\n",
       "      <td>{'predicate': '[\"(`tipo_prueba` = 'Anticuerpos...</td>\n",
       "      <td>None</td>\n",
       "      <td>None</td>\n",
       "      <td>None</td>\n",
       "      <td>16.0</td>\n",
       "      <td>None</td>\n",
       "      <td>False</td>\n",
       "      <td>{'numDeletedRows': '1', 'numRemovedFiles': '1'...</td>\n",
       "      <td>None</td>\n",
       "    </tr>\n",
       "    <tr>\n",
       "      <th>1</th>\n",
       "      <td>16</td>\n",
       "      <td>2020-07-29 19:08:50</td>\n",
       "      <td>None</td>\n",
       "      <td>None</td>\n",
       "      <td>WRITE</td>\n",
       "      <td>{'mode': 'Append', 'partitionBy': '[]'}</td>\n",
       "      <td>None</td>\n",
       "      <td>None</td>\n",
       "      <td>None</td>\n",
       "      <td>15.0</td>\n",
       "      <td>None</td>\n",
       "      <td>True</td>\n",
       "      <td>{'numOutputRows': '4', 'numOutputBytes': '3092...</td>\n",
       "      <td>None</td>\n",
       "    </tr>\n",
       "    <tr>\n",
       "      <th>2</th>\n",
       "      <td>15</td>\n",
       "      <td>2020-07-29 19:06:52</td>\n",
       "      <td>None</td>\n",
       "      <td>None</td>\n",
       "      <td>STREAMING UPDATE</td>\n",
       "      <td>{'epochId': '11', 'outputMode': 'Append', 'que...</td>\n",
       "      <td>None</td>\n",
       "      <td>None</td>\n",
       "      <td>None</td>\n",
       "      <td>13.0</td>\n",
       "      <td>None</td>\n",
       "      <td>True</td>\n",
       "      <td>{'numOutputRows': '800', 'numRemovedFiles': '0...</td>\n",
       "      <td>None</td>\n",
       "    </tr>\n",
       "    <tr>\n",
       "      <th>3</th>\n",
       "      <td>14</td>\n",
       "      <td>2020-07-29 19:06:50</td>\n",
       "      <td>None</td>\n",
       "      <td>None</td>\n",
       "      <td>STREAMING UPDATE</td>\n",
       "      <td>{'epochId': '2', 'outputMode': 'Append', 'quer...</td>\n",
       "      <td>None</td>\n",
       "      <td>None</td>\n",
       "      <td>None</td>\n",
       "      <td>13.0</td>\n",
       "      <td>None</td>\n",
       "      <td>True</td>\n",
       "      <td>{'numOutputRows': '800', 'numRemovedFiles': '0...</td>\n",
       "      <td>None</td>\n",
       "    </tr>\n",
       "    <tr>\n",
       "      <th>4</th>\n",
       "      <td>13</td>\n",
       "      <td>2020-07-29 19:06:42</td>\n",
       "      <td>None</td>\n",
       "      <td>None</td>\n",
       "      <td>STREAMING UPDATE</td>\n",
       "      <td>{'epochId': '10', 'outputMode': 'Append', 'que...</td>\n",
       "      <td>None</td>\n",
       "      <td>None</td>\n",
       "      <td>None</td>\n",
       "      <td>11.0</td>\n",
       "      <td>None</td>\n",
       "      <td>True</td>\n",
       "      <td>{'numOutputRows': '800', 'numRemovedFiles': '0...</td>\n",
       "      <td>None</td>\n",
       "    </tr>\n",
       "    <tr>\n",
       "      <th>5</th>\n",
       "      <td>12</td>\n",
       "      <td>2020-07-29 19:06:40</td>\n",
       "      <td>None</td>\n",
       "      <td>None</td>\n",
       "      <td>STREAMING UPDATE</td>\n",
       "      <td>{'epochId': '1', 'outputMode': 'Append', 'quer...</td>\n",
       "      <td>None</td>\n",
       "      <td>None</td>\n",
       "      <td>None</td>\n",
       "      <td>11.0</td>\n",
       "      <td>None</td>\n",
       "      <td>True</td>\n",
       "      <td>{'numOutputRows': '320', 'numRemovedFiles': '0...</td>\n",
       "      <td>None</td>\n",
       "    </tr>\n",
       "    <tr>\n",
       "      <th>6</th>\n",
       "      <td>11</td>\n",
       "      <td>2020-07-29 19:06:36</td>\n",
       "      <td>None</td>\n",
       "      <td>None</td>\n",
       "      <td>STREAMING UPDATE</td>\n",
       "      <td>{'epochId': '0', 'outputMode': 'Append', 'quer...</td>\n",
       "      <td>None</td>\n",
       "      <td>None</td>\n",
       "      <td>None</td>\n",
       "      <td>10.0</td>\n",
       "      <td>None</td>\n",
       "      <td>True</td>\n",
       "      <td>{'numOutputRows': '0', 'numRemovedFiles': '0',...</td>\n",
       "      <td>None</td>\n",
       "    </tr>\n",
       "    <tr>\n",
       "      <th>7</th>\n",
       "      <td>10</td>\n",
       "      <td>2020-07-29 19:06:30</td>\n",
       "      <td>None</td>\n",
       "      <td>None</td>\n",
       "      <td>STREAMING UPDATE</td>\n",
       "      <td>{'epochId': '9', 'outputMode': 'Append', 'quer...</td>\n",
       "      <td>None</td>\n",
       "      <td>None</td>\n",
       "      <td>None</td>\n",
       "      <td>9.0</td>\n",
       "      <td>None</td>\n",
       "      <td>True</td>\n",
       "      <td>{'numOutputRows': '800', 'numRemovedFiles': '0...</td>\n",
       "      <td>None</td>\n",
       "    </tr>\n",
       "    <tr>\n",
       "      <th>8</th>\n",
       "      <td>9</td>\n",
       "      <td>2020-07-29 19:06:20</td>\n",
       "      <td>None</td>\n",
       "      <td>None</td>\n",
       "      <td>STREAMING UPDATE</td>\n",
       "      <td>{'epochId': '8', 'outputMode': 'Append', 'quer...</td>\n",
       "      <td>None</td>\n",
       "      <td>None</td>\n",
       "      <td>None</td>\n",
       "      <td>8.0</td>\n",
       "      <td>None</td>\n",
       "      <td>True</td>\n",
       "      <td>{'numOutputRows': '800', 'numRemovedFiles': '0...</td>\n",
       "      <td>None</td>\n",
       "    </tr>\n",
       "    <tr>\n",
       "      <th>9</th>\n",
       "      <td>8</td>\n",
       "      <td>2020-07-29 19:06:10</td>\n",
       "      <td>None</td>\n",
       "      <td>None</td>\n",
       "      <td>STREAMING UPDATE</td>\n",
       "      <td>{'epochId': '7', 'outputMode': 'Append', 'quer...</td>\n",
       "      <td>None</td>\n",
       "      <td>None</td>\n",
       "      <td>None</td>\n",
       "      <td>7.0</td>\n",
       "      <td>None</td>\n",
       "      <td>True</td>\n",
       "      <td>{'numOutputRows': '800', 'numRemovedFiles': '0...</td>\n",
       "      <td>None</td>\n",
       "    </tr>\n",
       "    <tr>\n",
       "      <th>10</th>\n",
       "      <td>7</td>\n",
       "      <td>2020-07-29 19:06:00</td>\n",
       "      <td>None</td>\n",
       "      <td>None</td>\n",
       "      <td>STREAMING UPDATE</td>\n",
       "      <td>{'epochId': '6', 'outputMode': 'Append', 'quer...</td>\n",
       "      <td>None</td>\n",
       "      <td>None</td>\n",
       "      <td>None</td>\n",
       "      <td>6.0</td>\n",
       "      <td>None</td>\n",
       "      <td>True</td>\n",
       "      <td>{'numOutputRows': '800', 'numRemovedFiles': '0...</td>\n",
       "      <td>None</td>\n",
       "    </tr>\n",
       "    <tr>\n",
       "      <th>11</th>\n",
       "      <td>6</td>\n",
       "      <td>2020-07-29 19:05:50</td>\n",
       "      <td>None</td>\n",
       "      <td>None</td>\n",
       "      <td>STREAMING UPDATE</td>\n",
       "      <td>{'epochId': '5', 'outputMode': 'Append', 'quer...</td>\n",
       "      <td>None</td>\n",
       "      <td>None</td>\n",
       "      <td>None</td>\n",
       "      <td>5.0</td>\n",
       "      <td>None</td>\n",
       "      <td>True</td>\n",
       "      <td>{'numOutputRows': '800', 'numRemovedFiles': '0...</td>\n",
       "      <td>None</td>\n",
       "    </tr>\n",
       "    <tr>\n",
       "      <th>12</th>\n",
       "      <td>5</td>\n",
       "      <td>2020-07-29 19:05:40</td>\n",
       "      <td>None</td>\n",
       "      <td>None</td>\n",
       "      <td>STREAMING UPDATE</td>\n",
       "      <td>{'epochId': '4', 'outputMode': 'Append', 'quer...</td>\n",
       "      <td>None</td>\n",
       "      <td>None</td>\n",
       "      <td>None</td>\n",
       "      <td>4.0</td>\n",
       "      <td>None</td>\n",
       "      <td>True</td>\n",
       "      <td>{'numOutputRows': '800', 'numRemovedFiles': '0...</td>\n",
       "      <td>None</td>\n",
       "    </tr>\n",
       "    <tr>\n",
       "      <th>13</th>\n",
       "      <td>4</td>\n",
       "      <td>2020-07-29 19:05:30</td>\n",
       "      <td>None</td>\n",
       "      <td>None</td>\n",
       "      <td>STREAMING UPDATE</td>\n",
       "      <td>{'epochId': '3', 'outputMode': 'Append', 'quer...</td>\n",
       "      <td>None</td>\n",
       "      <td>None</td>\n",
       "      <td>None</td>\n",
       "      <td>3.0</td>\n",
       "      <td>None</td>\n",
       "      <td>True</td>\n",
       "      <td>{'numOutputRows': '800', 'numRemovedFiles': '0...</td>\n",
       "      <td>None</td>\n",
       "    </tr>\n",
       "    <tr>\n",
       "      <th>14</th>\n",
       "      <td>3</td>\n",
       "      <td>2020-07-29 19:05:20</td>\n",
       "      <td>None</td>\n",
       "      <td>None</td>\n",
       "      <td>STREAMING UPDATE</td>\n",
       "      <td>{'epochId': '2', 'outputMode': 'Append', 'quer...</td>\n",
       "      <td>None</td>\n",
       "      <td>None</td>\n",
       "      <td>None</td>\n",
       "      <td>2.0</td>\n",
       "      <td>None</td>\n",
       "      <td>True</td>\n",
       "      <td>{'numOutputRows': '800', 'numRemovedFiles': '0...</td>\n",
       "      <td>None</td>\n",
       "    </tr>\n",
       "    <tr>\n",
       "      <th>15</th>\n",
       "      <td>2</td>\n",
       "      <td>2020-07-29 19:05:10</td>\n",
       "      <td>None</td>\n",
       "      <td>None</td>\n",
       "      <td>STREAMING UPDATE</td>\n",
       "      <td>{'epochId': '1', 'outputMode': 'Append', 'quer...</td>\n",
       "      <td>None</td>\n",
       "      <td>None</td>\n",
       "      <td>None</td>\n",
       "      <td>1.0</td>\n",
       "      <td>None</td>\n",
       "      <td>True</td>\n",
       "      <td>{'numOutputRows': '560', 'numRemovedFiles': '0...</td>\n",
       "      <td>None</td>\n",
       "    </tr>\n",
       "    <tr>\n",
       "      <th>16</th>\n",
       "      <td>1</td>\n",
       "      <td>2020-07-29 19:05:02</td>\n",
       "      <td>None</td>\n",
       "      <td>None</td>\n",
       "      <td>STREAMING UPDATE</td>\n",
       "      <td>{'epochId': '0', 'outputMode': 'Append', 'quer...</td>\n",
       "      <td>None</td>\n",
       "      <td>None</td>\n",
       "      <td>None</td>\n",
       "      <td>0.0</td>\n",
       "      <td>None</td>\n",
       "      <td>True</td>\n",
       "      <td>{'numOutputRows': '0', 'numRemovedFiles': '0',...</td>\n",
       "      <td>None</td>\n",
       "    </tr>\n",
       "    <tr>\n",
       "      <th>17</th>\n",
       "      <td>0</td>\n",
       "      <td>2020-07-29 18:53:01</td>\n",
       "      <td>None</td>\n",
       "      <td>None</td>\n",
       "      <td>WRITE</td>\n",
       "      <td>{'mode': 'ErrorIfExists', 'partitionBy': '[]'}</td>\n",
       "      <td>None</td>\n",
       "      <td>None</td>\n",
       "      <td>None</td>\n",
       "      <td>NaN</td>\n",
       "      <td>None</td>\n",
       "      <td>True</td>\n",
       "      <td>{'numOutputRows': '1161', 'numOutputBytes': '1...</td>\n",
       "      <td>None</td>\n",
       "    </tr>\n",
       "  </tbody>\n",
       "</table>\n",
       "</div>"
      ],
      "text/plain": [
       "    version           timestamp userId userName         operation  \\\n",
       "0        17 2020-07-29 19:10:47   None     None            DELETE   \n",
       "1        16 2020-07-29 19:08:50   None     None             WRITE   \n",
       "2        15 2020-07-29 19:06:52   None     None  STREAMING UPDATE   \n",
       "3        14 2020-07-29 19:06:50   None     None  STREAMING UPDATE   \n",
       "4        13 2020-07-29 19:06:42   None     None  STREAMING UPDATE   \n",
       "5        12 2020-07-29 19:06:40   None     None  STREAMING UPDATE   \n",
       "6        11 2020-07-29 19:06:36   None     None  STREAMING UPDATE   \n",
       "7        10 2020-07-29 19:06:30   None     None  STREAMING UPDATE   \n",
       "8         9 2020-07-29 19:06:20   None     None  STREAMING UPDATE   \n",
       "9         8 2020-07-29 19:06:10   None     None  STREAMING UPDATE   \n",
       "10        7 2020-07-29 19:06:00   None     None  STREAMING UPDATE   \n",
       "11        6 2020-07-29 19:05:50   None     None  STREAMING UPDATE   \n",
       "12        5 2020-07-29 19:05:40   None     None  STREAMING UPDATE   \n",
       "13        4 2020-07-29 19:05:30   None     None  STREAMING UPDATE   \n",
       "14        3 2020-07-29 19:05:20   None     None  STREAMING UPDATE   \n",
       "15        2 2020-07-29 19:05:10   None     None  STREAMING UPDATE   \n",
       "16        1 2020-07-29 19:05:02   None     None  STREAMING UPDATE   \n",
       "17        0 2020-07-29 18:53:01   None     None             WRITE   \n",
       "\n",
       "                                  operationParameters   job notebook  \\\n",
       "0   {'predicate': '[\"(`tipo_prueba` = 'Anticuerpos...  None     None   \n",
       "1             {'mode': 'Append', 'partitionBy': '[]'}  None     None   \n",
       "2   {'epochId': '11', 'outputMode': 'Append', 'que...  None     None   \n",
       "3   {'epochId': '2', 'outputMode': 'Append', 'quer...  None     None   \n",
       "4   {'epochId': '10', 'outputMode': 'Append', 'que...  None     None   \n",
       "5   {'epochId': '1', 'outputMode': 'Append', 'quer...  None     None   \n",
       "6   {'epochId': '0', 'outputMode': 'Append', 'quer...  None     None   \n",
       "7   {'epochId': '9', 'outputMode': 'Append', 'quer...  None     None   \n",
       "8   {'epochId': '8', 'outputMode': 'Append', 'quer...  None     None   \n",
       "9   {'epochId': '7', 'outputMode': 'Append', 'quer...  None     None   \n",
       "10  {'epochId': '6', 'outputMode': 'Append', 'quer...  None     None   \n",
       "11  {'epochId': '5', 'outputMode': 'Append', 'quer...  None     None   \n",
       "12  {'epochId': '4', 'outputMode': 'Append', 'quer...  None     None   \n",
       "13  {'epochId': '3', 'outputMode': 'Append', 'quer...  None     None   \n",
       "14  {'epochId': '2', 'outputMode': 'Append', 'quer...  None     None   \n",
       "15  {'epochId': '1', 'outputMode': 'Append', 'quer...  None     None   \n",
       "16  {'epochId': '0', 'outputMode': 'Append', 'quer...  None     None   \n",
       "17     {'mode': 'ErrorIfExists', 'partitionBy': '[]'}  None     None   \n",
       "\n",
       "   clusterId  readVersion isolationLevel  isBlindAppend  \\\n",
       "0       None         16.0           None          False   \n",
       "1       None         15.0           None           True   \n",
       "2       None         13.0           None           True   \n",
       "3       None         13.0           None           True   \n",
       "4       None         11.0           None           True   \n",
       "5       None         11.0           None           True   \n",
       "6       None         10.0           None           True   \n",
       "7       None          9.0           None           True   \n",
       "8       None          8.0           None           True   \n",
       "9       None          7.0           None           True   \n",
       "10      None          6.0           None           True   \n",
       "11      None          5.0           None           True   \n",
       "12      None          4.0           None           True   \n",
       "13      None          3.0           None           True   \n",
       "14      None          2.0           None           True   \n",
       "15      None          1.0           None           True   \n",
       "16      None          0.0           None           True   \n",
       "17      None          NaN           None           True   \n",
       "\n",
       "                                     operationMetrics userMetadata  \n",
       "0   {'numDeletedRows': '1', 'numRemovedFiles': '1'...         None  \n",
       "1   {'numOutputRows': '4', 'numOutputBytes': '3092...         None  \n",
       "2   {'numOutputRows': '800', 'numRemovedFiles': '0...         None  \n",
       "3   {'numOutputRows': '800', 'numRemovedFiles': '0...         None  \n",
       "4   {'numOutputRows': '800', 'numRemovedFiles': '0...         None  \n",
       "5   {'numOutputRows': '320', 'numRemovedFiles': '0...         None  \n",
       "6   {'numOutputRows': '0', 'numRemovedFiles': '0',...         None  \n",
       "7   {'numOutputRows': '800', 'numRemovedFiles': '0...         None  \n",
       "8   {'numOutputRows': '800', 'numRemovedFiles': '0...         None  \n",
       "9   {'numOutputRows': '800', 'numRemovedFiles': '0...         None  \n",
       "10  {'numOutputRows': '800', 'numRemovedFiles': '0...         None  \n",
       "11  {'numOutputRows': '800', 'numRemovedFiles': '0...         None  \n",
       "12  {'numOutputRows': '800', 'numRemovedFiles': '0...         None  \n",
       "13  {'numOutputRows': '800', 'numRemovedFiles': '0...         None  \n",
       "14  {'numOutputRows': '800', 'numRemovedFiles': '0...         None  \n",
       "15  {'numOutputRows': '560', 'numRemovedFiles': '0...         None  \n",
       "16  {'numOutputRows': '0', 'numRemovedFiles': '0',...         None  \n",
       "17  {'numOutputRows': '1161', 'numOutputBytes': '1...         None  "
      ]
     },
     "execution_count": 50,
     "metadata": {},
     "output_type": "execute_result"
    }
   ],
   "source": [
    "deltaTable.history().show(truncate=False)\n",
    "deltaTable.history().toPandas().head(50)"
   ]
  },
  {
   "cell_type": "code",
   "execution_count": 67,
   "metadata": {},
   "outputs": [],
   "source": [
    "spark.read.format(\"delta\") \\\n",
    "  .option(\"versionAsOf\", 17) \\\n",
    "  .load(\"covid_delta\") \\\n",
    "  .createOrReplaceTempView(\"covid_delta_previous_version\")"
   ]
  },
  {
   "cell_type": "code",
   "execution_count": 68,
   "metadata": {},
   "outputs": [
    {
     "name": "stdout",
     "output_type": "stream",
     "text": [
      "+-------+-----------------+----------------+---------------------+--------+----+----+----+----------------+-----------+--------------+\n",
      "|id_caso|fecha_diagnostico|ciudad_ubicacion|departamento_distrito|atencion|edad|sexo|tipo|pais_procedencia|tipo_prueba|confirmado_pcr|\n",
      "+-------+-----------------+----------------+---------------------+--------+----+----+----+----------------+-----------+--------------+\n",
      "+-------+-----------------+----------------+---------------------+--------+----+----+----+----------------+-----------+--------------+\n",
      "\n"
     ]
    },
    {
     "data": {
      "text/plain": [
       "None"
      ]
     },
     "metadata": {},
     "output_type": "display_data"
    }
   ],
   "source": [
    "display(spark.sql(\"SELECT * FROM covid_delta_previous_version where tipo_prueba='Anticuerpos'\").show())"
   ]
  },
  {
   "cell_type": "code",
   "execution_count": 71,
   "metadata": {},
   "outputs": [],
   "source": [
    "spark.read.format(\"delta\") \\\n",
    "  .option(\"versionAsOf\", 0) \\\n",
    "  .load(\"covid_delta\") \\\n",
    "  .createOrReplaceTempView(\"covid_delta_previous_version\")"
   ]
  },
  {
   "cell_type": "code",
   "execution_count": 72,
   "metadata": {},
   "outputs": [
    {
     "name": "stdout",
     "output_type": "stream",
     "text": [
      "+--------+\n",
      "|count(1)|\n",
      "+--------+\n",
      "|    1161|\n",
      "+--------+\n",
      "\n"
     ]
    },
    {
     "data": {
      "text/plain": [
       "None"
      ]
     },
     "metadata": {},
     "output_type": "display_data"
    }
   ],
   "source": [
    "display(spark.sql(\"SELECT count(1) FROM covid_delta_previous_version\").show())"
   ]
  },
  {
   "cell_type": "code",
   "execution_count": 73,
   "metadata": {},
   "outputs": [
    {
     "name": "stdout",
     "output_type": "stream",
     "text": [
      "+-------+-----------------+----------------+---------------------+----------+----+----+-----------+-------------------------+\n",
      "|id_caso|fecha_diagnostico|ciudad_ubicacion|departamento_distrito|atencion  |edad|sexo|tipo       |pais_procedencia         |\n",
      "+-------+-----------------+----------------+---------------------+----------+----+----+-----------+-------------------------+\n",
      "|1      |06/03/2020       |Bogotá          |Bogotá D.C.          |Recuperado|19  |F   |Importado  |Italia                   |\n",
      "|2      |09/03/2020       |Buga            |Valle del Cauca      |Recuperado|34  |M   |Importado  |España                   |\n",
      "|3      |09/03/2020       |Medellín        |Antioquia            |Recuperado|50  |F   |Importado  |España                   |\n",
      "|4      |11/03/2020       |Medellín        |Antioquia            |Recuperado|55  |M   |Relacionado|Colombia                 |\n",
      "|5      |11/03/2020       |Medellín        |Antioquia            |Recuperado|25  |M   |Relacionado|Colombia                 |\n",
      "|6      |11/03/2020       |Itagüí          |Antioquia            |Casa      |27  |F   |Relacionado|Colombia                 |\n",
      "|7      |11/03/2020       |Cartagena       |Cartagena D.T. y C   |Recuperado|85  |F   |Importado  |Estados Unidos           |\n",
      "|8      |11/03/2020       |Bogotá          |Bogotá D.C.          |Recuperado|22  |F   |Importado  |España                   |\n",
      "|9      |11/03/2020       |Bogotá          |Bogotá D.C.          |Recuperado|28  |F   |Importado  |España - Italia          |\n",
      "|10     |12/03/2020       |Bogotá          |Bogotá D.C.          |Recuperado|36  |F   |Importado  |España                   |\n",
      "|11     |12/03/2020       |Bogotá          |Bogotá D.C.          |Casa      |42  |F   |Importado  |España                   |\n",
      "|12     |12/03/2020       |Neiva           |Huila                |Casa      |74  |F   |Importado  |Italia                   |\n",
      "|13     |12/03/2020       |Neiva           |Huila                |Casa      |68  |F   |Relacionado|Colombia                 |\n",
      "|14     |13/03/2020       |Palmira         |Valle del Cauca      |Recuperado|48  |M   |Importado  |España                   |\n",
      "|15     |13/03/2020       |Villavicencio   |Meta                 |Recuperado|30  |F   |Importado  |España                   |\n",
      "|16     |13/03/2020       |Bogotá          |Bogotá D.C.          |Recuperado|61  |F   |Importado  |Italia - Ucrania - España|\n",
      "|17     |14/03/2020       |Bogotá          |Bogotá D.C.          |Casa      |73  |F   |Importado  |España                   |\n",
      "|18     |14/03/2020       |Bogotá          |Bogotá D.C.          |Casa      |54  |M   |Importado  |España                   |\n",
      "|19     |14/03/2020       |Bogotá          |Bogotá D.C.          |Recuperado|54  |F   |Relacionado|Colombia                 |\n",
      "|20     |14/03/2020       |Medellín        |Antioquia            |Recuperado|26  |F   |Relacionado|Colombia                 |\n",
      "+-------+-----------------+----------------+---------------------+----------+----+----+-----------+-------------------------+\n",
      "only showing top 20 rows\n",
      "\n"
     ]
    },
    {
     "data": {
      "text/plain": [
       "None"
      ]
     },
     "metadata": {},
     "output_type": "display_data"
    }
   ],
   "source": [
    "display(spark.sql(\"SELECT * FROM covid_delta_previous_version\").show(truncate=False))"
   ]
  },
  {
   "cell_type": "code",
   "execution_count": null,
   "metadata": {},
   "outputs": [],
   "source": [
    "#spark.sql(\"SET spark.databricks.delta.retentionDurationCheck.enabled = false\")\n",
    "#deltaTable.vacuum(0)\n",
    "#deltaTable.history().toPandas().head()"
   ]
  },
  {
   "cell_type": "markdown",
   "metadata": {},
   "source": [
    "## Actualizar e incorporar nuevos datos mediante MERGE"
   ]
  },
  {
   "cell_type": "code",
   "execution_count": 74,
   "metadata": {},
   "outputs": [
    {
     "name": "stdout",
     "output_type": "stream",
     "text": [
      "+-------+-----------------+----------------+---------------------+------------+----+----+-----------+----------------+-----------+--------------+\n",
      "|id_caso|fecha_diagnostico|ciudad_ubicacion|departamento_distrito|    atencion|edad|sexo|       tipo|pais_procedencia|tipo_prueba|confirmado_pcr|\n",
      "+-------+-----------------+----------------+---------------------+------------+----+----+-----------+----------------+-----------+--------------+\n",
      "|   cov1|       29/07/2020|          Bogotá|          Bogotá D.C.|Hospital UCI|  78|   M|Relacionado|        Colombia|  Molecular|          true|\n",
      "|   cov2|       29/07/2020|          Bogotá|          Bogotá D.C.|    Hospital|  38|   F|Relacionado|        Colombia|   Antígeno|         false|\n",
      "|   cov3|       29/07/2020|        Medellín|            Antioquia|        Casa|  24|   F|Relacionado|        Colombia|   Antígeno|          true|\n",
      "+-------+-----------------+----------------+---------------------+------------+----+----+-----------+----------------+-----------+--------------+\n",
      "\n"
     ]
    },
    {
     "data": {
      "text/plain": [
       "None"
      ]
     },
     "metadata": {},
     "output_type": "display_data"
    }
   ],
   "source": [
    "display(spark.sql(\"select * from covid_delta where id_caso IN ('cov1','cov2','cov3','cov4','cov5')\").show())"
   ]
  },
  {
   "cell_type": "code",
   "execution_count": 75,
   "metadata": {},
   "outputs": [
    {
     "name": "stdout",
     "output_type": "stream",
     "text": [
      "+-------+-----------------+----------------+---------------------+--------+----+----+-----------+----------------+-----------+--------------+\n",
      "|id_caso|fecha_diagnostico|ciudad_ubicacion|departamento_distrito|atencion|edad|sexo|       tipo|pais_procedencia|tipo_prueba|confirmado_pcr|\n",
      "+-------+-----------------+----------------+---------------------+--------+----+----+-----------+----------------+-----------+--------------+\n",
      "|   cov2|       29/07/2020|          Bogotá|          Bogotá D.C.|Hospital|  38|   F|Relacionado|        Colombia|  Molecular|          true|\n",
      "|   cov5|       29/07/2020|   Villavicencio|            Antioquia|    Casa|  22|   M|Relacionado|        Colombia|  Molecular|          true|\n",
      "|   cov3|       08/08/2020|        Medellín|            Antioquia|Hospital|  24|   F|Relacionado|        Colombia|   Antígeno|          true|\n",
      "+-------+-----------------+----------------+---------------------+--------+----+----+-----------+----------------+-----------+--------------+\n",
      "\n"
     ]
    },
    {
     "data": {
      "text/plain": [
       "None"
      ]
     },
     "metadata": {},
     "output_type": "display_data"
    }
   ],
   "source": [
    "diagnosticos = [\n",
    "    (\"cov2\", \"29/07/2020\", \"Bogotá\", \"Bogotá D.C.\", \"Hospital\", \"38\", \"F\", \"Relacionado\", \"Colombia\", \"Molecular\", True),\n",
    "    (\"cov5\", \"29/07/2020\", \"Villavicencio\", \"Antioquia\", \"Casa\", \"22\", \"M\", \"Relacionado\", \"Colombia\", \"Molecular\", True),\n",
    "    (\"cov3\", \"08/08/2020\", \"Medellín\", \"Antioquia\", \"Hospital\", \"24\", \"F\", \"Relacionado\", \"Colombia\", \"Antígeno\", True),\n",
    "]\n",
    "\n",
    "columnas = [\"id_caso\", \"fecha_diagnostico\", \"ciudad_ubicacion\", \"departamento_distrito\", \"atencion\", \"edad\", \"sexo\", \"tipo\", \"pais_procedencia\", \"tipo_prueba\", \"confirmado_pcr\"]\n",
    "\n",
    "covid_data_update = spark.createDataFrame(diagnosticos, columnas)\n",
    "  \n",
    "display(covid_data_update.show())"
   ]
  },
  {
   "cell_type": "code",
   "execution_count": 76,
   "metadata": {},
   "outputs": [],
   "source": [
    "from delta.tables import *\n",
    "\n",
    "delta_table = DeltaTable.forPath(spark, \"covid_delta\")\n",
    "\n",
    "delta_table.alias(\"destination\").merge(\n",
    "    covid_data_update.alias(\"source\"), \n",
    "    \"source.id_caso = destination.id_caso\") \\\n",
    "  .whenMatchedUpdateAll() \\\n",
    "  .whenNotMatchedInsertAll() \\\n",
    "  .execute()"
   ]
  },
  {
   "cell_type": "code",
   "execution_count": 77,
   "metadata": {},
   "outputs": [
    {
     "name": "stdout",
     "output_type": "stream",
     "text": [
      "+-------+-----------------+----------------+---------------------+------------+----+----+-----------+----------------+-----------+--------------+\n",
      "|id_caso|fecha_diagnostico|ciudad_ubicacion|departamento_distrito|    atencion|edad|sexo|       tipo|pais_procedencia|tipo_prueba|confirmado_pcr|\n",
      "+-------+-----------------+----------------+---------------------+------------+----+----+-----------+----------------+-----------+--------------+\n",
      "|   cov1|       29/07/2020|          Bogotá|          Bogotá D.C.|Hospital UCI|  78|   M|Relacionado|        Colombia|  Molecular|          true|\n",
      "|   cov2|       29/07/2020|          Bogotá|          Bogotá D.C.|    Hospital|  38|   F|Relacionado|        Colombia|  Molecular|          true|\n",
      "|   cov3|       08/08/2020|        Medellín|            Antioquia|    Hospital|  24|   F|Relacionado|        Colombia|   Antígeno|          true|\n",
      "|   cov5|       29/07/2020|   Villavicencio|            Antioquia|        Casa|  22|   M|Relacionado|        Colombia|  Molecular|          true|\n",
      "+-------+-----------------+----------------+---------------------+------------+----+----+-----------+----------------+-----------+--------------+\n",
      "\n"
     ]
    },
    {
     "data": {
      "text/plain": [
       "None"
      ]
     },
     "metadata": {},
     "output_type": "display_data"
    }
   ],
   "source": [
    "display(spark.sql(\"select * from covid_delta where id_caso IN ('cov1','cov2','cov3','cov4','cov5')\").show())"
   ]
  },
  {
   "cell_type": "code",
   "execution_count": null,
   "metadata": {},
   "outputs": [],
   "source": []
  }
 ],
 "metadata": {
  "kernelspec": {
   "display_name": "Python 3",
   "language": "python",
   "name": "python3"
  },
  "language_info": {
   "codemirror_mode": {
    "name": "ipython",
    "version": 3
   },
   "file_extension": ".py",
   "mimetype": "text/x-python",
   "name": "python",
   "nbconvert_exporter": "python",
   "pygments_lexer": "ipython3",
   "version": "3.8.3"
  }
 },
 "nbformat": 4,
 "nbformat_minor": 4
}
